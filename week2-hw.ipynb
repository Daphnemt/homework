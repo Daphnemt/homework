{
 "cells": [
  {
   "cell_type": "code",
   "execution_count": 9,
   "id": "b23f15b9",
   "metadata": {},
   "outputs": [
    {
     "name": "stdout",
     "output_type": "stream",
     "text": [
      "Daphne 21 97.0 True blue\n"
     ]
    }
   ],
   "source": [
    "# 1.\n",
    "name = \"Daphne\"\n",
    "age = 21\n",
    "grade = 97.0\n",
    "is_student = True\n",
    "favorite_color = input(\"what is your favorite color?\")\n",
    "\n",
    "print(name,age,grade,is_student,favorite_color)"
   ]
  },
  {
   "cell_type": "code",
   "execution_count": null,
   "id": "97f7b555",
   "metadata": {},
   "outputs": [],
   "source": [
    "# 2.\n",
    "name: str = \"Daphne\"\n",
    "age: int = 21\n",
    "grade: float = 97.0\n",
    "is_student: bool = True\n",
    "favorite_color: str = input(\"what is your favorite color?\")"
   ]
  },
  {
   "cell_type": "code",
   "execution_count": 13,
   "id": "5d9d113a",
   "metadata": {},
   "outputs": [
    {
     "name": "stdout",
     "output_type": "stream",
     "text": [
      "DAPHNE\n"
     ]
    }
   ],
   "source": [
    "# 3. \n",
    "name = \"Daphne\".upper()\n",
    "\n",
    "print(name)"
   ]
  },
  {
   "cell_type": "code",
   "execution_count": 32,
   "id": "fe4e2820",
   "metadata": {},
   "outputs": [
    {
     "name": "stdout",
     "output_type": "stream",
     "text": [
      "<class 'float'>\n"
     ]
    }
   ],
   "source": [
    "# 4. \n",
    "age+grade\n",
    "print(type(age+grade))"
   ]
  },
  {
   "cell_type": "code",
   "execution_count": 35,
   "id": "980a4cf5",
   "metadata": {},
   "outputs": [],
   "source": [
    "# 5. \n",
    "person = {\n",
    "    \"name\": name,\n",
    "    \"age\": age,\n",
    "    \"grade\": grade,\n",
    "    \"is_student\": is_student,\n",
    "    \"favorite_color\": favorite_color,\n",
    "}"
   ]
  },
  {
   "cell_type": "code",
   "execution_count": 1,
   "id": "2109c71c",
   "metadata": {},
   "outputs": [
    {
     "ename": "NameError",
     "evalue": "name 'person' is not defined",
     "output_type": "error",
     "traceback": [
      "\u001b[31m---------------------------------------------------------------------------\u001b[39m",
      "\u001b[31mNameError\u001b[39m                                 Traceback (most recent call last)",
      "\u001b[36mCell\u001b[39m\u001b[36m \u001b[39m\u001b[32mIn[1]\u001b[39m\u001b[32m, line 1\u001b[39m\n\u001b[32m----> \u001b[39m\u001b[32m1\u001b[39m \u001b[38;5;28mprint\u001b[39m(\u001b[33mf\u001b[39m\u001b[33m\"\u001b[39m\u001b[33mMy name is \u001b[39m\u001b[38;5;132;01m{\u001b[39;00mperson[\u001b[33m'\u001b[39m\u001b[33mname\u001b[39m\u001b[33m'\u001b[39m]\u001b[38;5;132;01m}\u001b[39;00m\u001b[33m. I am \u001b[39m\u001b[38;5;132;01m{\u001b[39;00mperson[\u001b[33m'\u001b[39m\u001b[33mage\u001b[39m\u001b[33m'\u001b[39m]\u001b[38;5;132;01m}\u001b[39;00m\u001b[33m years old. My favorite color is \u001b[39m\u001b[38;5;132;01m{\u001b[39;00mperson[\u001b[33m'\u001b[39m\u001b[33mfavorite_color\u001b[39m\u001b[33m'\u001b[39m]\u001b[38;5;132;01m}\u001b[39;00m\u001b[33m. I will get a \u001b[39m\u001b[38;5;132;01m{\u001b[39;00mperson[\u001b[33m'\u001b[39m\u001b[33mgrade\u001b[39m\u001b[33m'\u001b[39m]\u001b[38;5;132;01m}\u001b[39;00m\u001b[33m in this class.\u001b[39m\u001b[33m\"\u001b[39m)\n",
      "\u001b[31mNameError\u001b[39m: name 'person' is not defined"
     ]
    }
   ],
   "source": [
    "print(f\"My name is {person['name']}. I am {person['age']} years old. My favorite color is {person['favorite_color']}. I will get a {person['grade']} in this class.\")"
   ]
  },
  {
   "cell_type": "code",
   "execution_count": null,
   "id": "0ae7fb34",
   "metadata": {},
   "outputs": [],
   "source": []
  }
 ],
 "metadata": {
  "kernelspec": {
   "display_name": "Py-class",
   "language": "python",
   "name": "python3"
  },
  "language_info": {
   "codemirror_mode": {
    "name": "ipython",
    "version": 3
   },
   "file_extension": ".py",
   "mimetype": "text/x-python",
   "name": "python",
   "nbconvert_exporter": "python",
   "pygments_lexer": "ipython3",
   "version": "3.13.5"
  }
 },
 "nbformat": 4,
 "nbformat_minor": 5
}
