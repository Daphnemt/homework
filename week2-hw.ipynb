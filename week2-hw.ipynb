{
 "cells": [
  {
   "cell_type": "code",
   "execution_count": 4,
   "id": "b23f15b9",
   "metadata": {},
   "outputs": [
    {
     "name": "stdout",
     "output_type": "stream",
     "text": [
      "Daphne 21 97.0 True blue\n"
     ]
    }
   ],
   "source": [
    "# 1.\n",
    "name = \"Daphne\"\n",
    "age = 21\n",
    "grade = 97.0\n",
    "is_student = True\n",
    "favorite_color = input(\"what is your favorite color?\")\n",
    "\n",
    "print(name,age,grade,is_student,favorite_color)"
   ]
  },
  {
   "cell_type": "code",
   "execution_count": 5,
   "id": "97f7b555",
   "metadata": {},
   "outputs": [],
   "source": [
    "# 2.\n",
    "name: str = \"Daphne\"\n",
    "age: int = 21\n",
    "grade: float = 97.0\n",
    "is_student: bool = True\n",
    "favorite_color: str = input(\"what is your favorite color?\")"
   ]
  },
  {
   "cell_type": "code",
   "execution_count": 6,
   "id": "5d9d113a",
   "metadata": {},
   "outputs": [
    {
     "name": "stdout",
     "output_type": "stream",
     "text": [
      "DAPHNE\n"
     ]
    }
   ],
   "source": [
    "# 3. \n",
    "name = \"Daphne\".upper()\n",
    "\n",
    "print(name)"
   ]
  },
  {
   "cell_type": "code",
   "execution_count": 7,
   "id": "fe4e2820",
   "metadata": {},
   "outputs": [
    {
     "name": "stdout",
     "output_type": "stream",
     "text": [
      "<class 'float'>\n"
     ]
    }
   ],
   "source": [
    "# 4. \n",
    "age+grade\n",
    "print(type(age+grade))"
   ]
  },
  {
   "cell_type": "code",
   "execution_count": 8,
   "id": "980a4cf5",
   "metadata": {},
   "outputs": [],
   "source": [
    "# 5. \n",
    "person = {\n",
    "    \"name\": name,\n",
    "    \"age\": age,\n",
    "    \"grade\": grade,\n",
    "    \"is_student\": is_student,\n",
    "    \"favorite_color\": favorite_color,\n",
    "}"
   ]
  },
  {
   "cell_type": "code",
   "execution_count": 9,
   "id": "2109c71c",
   "metadata": {},
   "outputs": [
    {
     "name": "stdout",
     "output_type": "stream",
     "text": [
      "My name is DAPHNE. I am 21 years old. My favorite color is blue. I will get a 97.0 in this class.\n"
     ]
    }
   ],
   "source": [
    "print(f\"My name is {person['name']}. I am {person['age']} years old. My favorite color is {person['favorite_color']}. I will get a {person['grade']} in this class.\")"
   ]
  },
  {
   "cell_type": "code",
   "execution_count": null,
   "id": "0ae7fb34",
   "metadata": {},
   "outputs": [],
   "source": []
  }
 ],
 "metadata": {
  "kernelspec": {
   "display_name": "Py-class",
   "language": "python",
   "name": "python3"
  },
  "language_info": {
   "codemirror_mode": {
    "name": "ipython",
    "version": 3
   },
   "file_extension": ".py",
   "mimetype": "text/x-python",
   "name": "python",
   "nbconvert_exporter": "python",
   "pygments_lexer": "ipython3",
   "version": "3.13.5"
  }
 },
 "nbformat": 4,
 "nbformat_minor": 5
}
