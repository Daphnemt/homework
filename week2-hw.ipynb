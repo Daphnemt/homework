{
 "cells": [
  {
   "cell_type": "code",
   "execution_count": 9,
   "id": "f61a7265",
   "metadata": {},
   "outputs": [],
   "source": [
    "# 1. Create 5 variables with the following names and types then print each in the console:\n",
    "   # - `name` as a string\n",
    "   # - `age` as an integer\n",
    "   # - `grade`: float\n",
    "   # - `is_student`: boolean\n",
    "   # - `favorite_color`: string\n",
    "\n",
    "#2. Reassign each variable to the same value, but this time use type hinting to declare the data type of each variable.\n",
    "\n",
    "#3. Reassign the `name` variable the same name but in all uppercase letters using a string method. Print the new value of `name` in the console.\n",
    "\n",
    "#4. Add the `age` variable to the `grade` variable. What is the data type of the result? Print the type of the output to the console using the built-in type function.\n",
    "\n",
    "#5. Create a dictionary named `person` that includes each variable you created in step 2 as a key and its value as the value. Print the dictionary in the console.\n",
    "\n",
    "#6. Use an f-string to print a sentence that includes the `name`, `age`, and `favorite_color` keys from the `person` dictionary. It should follow this pattern: \"My name is [name]. I am [age] years old. My favorite color is [favorite_color]. I will get a [grade] in this class.\""
   ]
  },
  {
   "cell_type": "code",
   "execution_count": 10,
   "id": "b23f15b9",
   "metadata": {},
   "outputs": [
    {
     "name": "stdout",
     "output_type": "stream",
     "text": [
      "Daphne 21 97.0 True blue\n"
     ]
    }
   ],
   "source": [
    "# 1.\n",
    "name = \"Daphne\"\n",
    "age = 21\n",
    "grade = 97.0\n",
    "is_student = True\n",
    "favorite_color = input(\"what is your favorite color?\")\n",
    "\n",
    "print(name,age,grade,is_student,favorite_color)"
   ]
  },
  {
   "cell_type": "code",
   "execution_count": 11,
   "id": "97f7b555",
   "metadata": {},
   "outputs": [],
   "source": [
    "# 2.\n",
    "name: str = \"Daphne\"\n",
    "age: int = 21\n",
    "grade: float = 97.0\n",
    "is_student: bool = True\n",
    "favorite_color: str = input(\"what is your favorite color?\")"
   ]
  },
  {
   "cell_type": "code",
   "execution_count": 12,
   "id": "5d9d113a",
   "metadata": {},
   "outputs": [
    {
     "name": "stdout",
     "output_type": "stream",
     "text": [
      "DAPHNE\n"
     ]
    }
   ],
   "source": [
    "# 3. \n",
    "name = \"Daphne\".upper()\n",
    "\n",
    "print(name)"
   ]
  },
  {
   "cell_type": "code",
   "execution_count": 13,
   "id": "fe4e2820",
   "metadata": {},
   "outputs": [
    {
     "name": "stdout",
     "output_type": "stream",
     "text": [
      "<class 'float'>\n"
     ]
    },
    {
     "data": {
      "text/plain": [
       "float"
      ]
     },
     "execution_count": 13,
     "metadata": {},
     "output_type": "execute_result"
    }
   ],
   "source": [
    "# 4. \n",
    "age+grade\n",
    "print(type(age+grade))\n",
    "type(age+grade)"
   ]
  },
  {
   "cell_type": "code",
   "execution_count": 14,
   "id": "980a4cf5",
   "metadata": {},
   "outputs": [],
   "source": [
    "# 5. \n",
    "person = {\n",
    "    \"name\": name,\n",
    "    \"age\": age,\n",
    "    \"grade\": grade,\n",
    "    \"is_student\": is_student,\n",
    "    \"favorite_color\": favorite_color,\n",
    "}"
   ]
  },
  {
   "cell_type": "code",
   "execution_count": 15,
   "id": "2109c71c",
   "metadata": {},
   "outputs": [
    {
     "name": "stdout",
     "output_type": "stream",
     "text": [
      "My name is DAPHNE. I am 21 years old. My favorite color is blue. I will get a 97.0 in this class.\n"
     ]
    }
   ],
   "source": [
    "print(f\"My name is {person['name']}. I am {person['age']} years old. My favorite color is {person['favorite_color']}. I will get a {person['grade']} in this class.\")"
   ]
  },
  {
   "cell_type": "code",
   "execution_count": null,
   "id": "0ae7fb34",
   "metadata": {},
   "outputs": [],
   "source": []
  }
 ],
 "metadata": {
  "kernelspec": {
   "display_name": "Py-class",
   "language": "python",
   "name": "python3"
  },
  "language_info": {
   "codemirror_mode": {
    "name": "ipython",
    "version": 3
   },
   "file_extension": ".py",
   "mimetype": "text/x-python",
   "name": "python",
   "nbconvert_exporter": "python",
   "pygments_lexer": "ipython3",
   "version": "3.13.5"
  }
 },
 "nbformat": 4,
 "nbformat_minor": 5
}
